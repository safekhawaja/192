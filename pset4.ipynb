{
  "nbformat": 4,
  "nbformat_minor": 0,
  "metadata": {
    "colab": {
      "name": "pset4.ipynb",
      "provenance": [],
      "collapsed_sections": []
    },
    "kernelspec": {
      "name": "python3",
      "display_name": "Python 3"
    },
    "language_info": {
      "name": "python"
    },
    "accelerator": "GPU"
  },
  "cells": [
    {
      "cell_type": "markdown",
      "metadata": {
        "id": "_AZUvxK1P_ue"
      },
      "source": [
        "Problem Set 4 — Saif Khawaja\n"
      ]
    },
    {
      "cell_type": "code",
      "metadata": {
        "id": "-n7KvXNu3BZH"
      },
      "source": [
        "'''\n",
        "Trains a simple convnet on the MNIST dataset.\n",
        "Credit: Keras Team\n",
        "'''\n",
        "from __future__ import print_function\n",
        "import keras\n",
        "from keras.datasets import mnist\n",
        "from keras.models import Sequential\n",
        "from keras.layers import Dense, Dropout, Flatten\n",
        "from keras.layers import Conv2D, MaxPooling2D\n",
        "import matplotlib.pyplot as plt\n",
        "import numpy as np"
      ],
      "execution_count": null,
      "outputs": []
    },
    {
      "cell_type": "code",
      "metadata": {
        "colab": {
          "base_uri": "https://localhost:8080/"
        },
        "id": "wSvHkVwm3E65",
        "outputId": "665c8ab9-370b-4e89-f7fc-ebe4eaaf6eb0"
      },
      "source": [
        "# DEFINING *SOME* HYPERPARAMETERS\n",
        "batch_size = 256\n",
        "num_classes = 10\n",
        "epochs = 2 \n",
        "\n",
        "# DATA CLEAN-UP\n",
        "img_rows, img_cols = 28, 28\n",
        "\n",
        "(x_train, y_train), (x_test, y_test) = mnist.load_data()\n",
        "\n",
        "x_train = x_train.reshape(x_train.shape[0], img_rows, img_cols, 1)\n",
        "x_test = x_test.reshape(x_test.shape[0], img_rows, img_cols, 1)\n",
        "input_shape = (img_rows, img_cols, 1)\n",
        "\n",
        "x_train = x_train.astype('float32')\n",
        "x_test = x_test.astype('float32')\n",
        "x_train /= 255\n",
        "x_test /= 255\n",
        "\n",
        "print('x_train shape:', x_train.shape)\n",
        "print(x_train.shape[0], 'train samples')\n",
        "print(x_test.shape[0], 'test samples')\n",
        "\n",
        "y_train = keras.utils.to_categorical(y_train, num_classes)\n",
        "y_test = keras.utils.to_categorical(y_test, num_classes)"
      ],
      "execution_count": null,
      "outputs": [
        {
          "output_type": "stream",
          "text": [
            "x_train shape: (60000, 28, 28, 1)\n",
            "60000 train samples\n",
            "10000 test samples\n"
          ],
          "name": "stdout"
        }
      ]
    },
    {
      "cell_type": "code",
      "metadata": {
        "id": "iJ7M16wz4J9W"
      },
      "source": [
        "def run_model(batch_size = 256, epochs = 2, lr=1e-3):\n",
        "    # MODEL DEFINITION (some hardcodede hyperparameters)\n",
        "    model = Sequential()\n",
        "    model.add(Conv2D(32, kernel_size=(3, 3), activation='relu', input_shape=input_shape))\n",
        "    model.add(Conv2D(64, (3, 3), activation='relu'))\n",
        "    model.add(MaxPooling2D(pool_size=(2, 2)))\n",
        "    model.add(Dropout(0.9))\n",
        "    model.add(Flatten())\n",
        "    model.add(Dense(128, activation='relu'))\n",
        "    model.add(Dropout(0.9))\n",
        "    model.add(Dense(num_classes, activation='softmax'))\n",
        "\n",
        "    # MODEL COMPILATION AND TRAINING\n",
        "    model.compile(loss=keras.losses.categorical_crossentropy,\n",
        "                  optimizer=keras.optimizers.SGD(lr=lr),\n",
        "                  metrics=['accuracy'])\n",
        "\n",
        "    model.fit(x_train, y_train,\n",
        "              batch_size=batch_size,\n",
        "              epochs=epochs,\n",
        "              verbose=0,\n",
        "              validation_data=(x_test, y_test))\n",
        "\n",
        "    # MODEL EVALUATION\n",
        "    score = model.evaluate(x_test, y_test, verbose=0)\n",
        "\n",
        "    print('Test loss:', score[0])\n",
        "    print('Test accuracy:', score[1])\n",
        "    return score"
      ],
      "execution_count": null,
      "outputs": []
    },
    {
      "cell_type": "markdown",
      "metadata": {
        "id": "UskeOZrL5gAg"
      },
      "source": [
        "Experiment 1: Now we change the number of epochs, keeping batch_size=256 and lr=1e-3"
      ]
    },
    {
      "cell_type": "code",
      "metadata": {
        "colab": {
          "base_uri": "https://localhost:8080/"
        },
        "id": "lKy7zGs05Ue3",
        "outputId": "c76828ee-91b2-44eb-b4b8-0b234adeb8dd"
      },
      "source": [
        "epochs_grid = np.arange(2,73,10) # epochs = 2,12,22,32,42,52,62,72.\n",
        "scores = np.zeros((len(epochs_grid), 2))\n",
        "for i, e in enumerate(epochs_grid):\n",
        "    scores[i, :] = run_model(batch_size = 256, epochs = e, lr=1e-3)\n",
        "print(scores)"
      ],
      "execution_count": null,
      "outputs": [
        {
          "output_type": "stream",
          "text": [
            "Test loss: 2.2973291873931885\n",
            "Test accuracy: 0.2143000066280365\n",
            "Test loss: 2.271655797958374\n",
            "Test accuracy: 0.5273000001907349\n",
            "Test loss: 2.1290171146392822\n",
            "Test accuracy: 0.6675000190734863\n",
            "Test loss: 1.9149818420410156\n",
            "Test accuracy: 0.7576000094413757\n",
            "Test loss: 1.3858134746551514\n",
            "Test accuracy: 0.796500027179718\n",
            "Test loss: 1.278963327407837\n",
            "Test accuracy: 0.8144999742507935\n",
            "Test loss: 0.8951471447944641\n",
            "Test accuracy: 0.8726000189781189\n",
            "Test loss: 0.7337367534637451\n",
            "Test accuracy: 0.8888000249862671\n",
            "[[2.29732919 0.21430001]\n",
            " [2.2716558  0.5273    ]\n",
            " [2.12901711 0.66750002]\n",
            " [1.91498184 0.75760001]\n",
            " [1.38581347 0.79650003]\n",
            " [1.27896333 0.81449997]\n",
            " [0.89514714 0.87260002]\n",
            " [0.73373675 0.88880002]]\n"
          ],
          "name": "stdout"
        }
      ]
    },
    {
      "cell_type": "code",
      "metadata": {
        "colab": {
          "base_uri": "https://localhost:8080/",
          "height": 296
        },
        "id": "HlJxK9UG9lq_",
        "outputId": "b449f9b2-65e6-4ce2-86e7-ec5eddf86b28"
      },
      "source": [
        "plt.plot(epochs_grid, scores[:, 1], '-o')\n",
        "plt.xlabel('epochs')\n",
        "plt.ylabel('test set accuracy')"
      ],
      "execution_count": null,
      "outputs": [
        {
          "output_type": "execute_result",
          "data": {
            "text/plain": [
              "Text(0, 0.5, 'test set accuracy')"
            ]
          },
          "metadata": {
            "tags": []
          },
          "execution_count": 7
        },
        {
          "output_type": "display_data",
          "data": {
            "image/png": "[encoded data removed]",
            "text/plain": [
              "<Figure size 432x288 with 1 Axes>"
            ]
          },
          "metadata": {
            "tags": [],
            "needs_background": "light"
          }
        }
      ]
    },
    {
      "cell_type": "markdown",
      "metadata": {
        "id": "iwLoHJVl-ZGe"
      },
      "source": [
        "The test set accuracy increases with increasing number of epochs. The model is underfit when number of epochs is too small for this experiment."
      ]
    },
    {
      "cell_type": "markdown",
      "metadata": {
        "id": "lkbJT-8I_IO6"
      },
      "source": [
        "Experiment 2: Now we change the learning rate, keeping epochs=40 and batch_size = 256."
      ]
    },
    {
      "cell_type": "code",
      "metadata": {
        "colab": {
          "base_uri": "https://localhost:8080/"
        },
        "id": "jHsWpDT9_WVw",
        "outputId": "50dd5179-f2fc-4241-c97c-278ee6705f7a"
      },
      "source": [
        "lr_grid = np.logspace(-5,0,8) # 1e-5 to 1 on a logspace\n",
        "scores = np.zeros((len(lr_grid), 2))\n",
        "for i, e in enumerate(lr_grid):\n",
        "    scores[i, :] = run_model(batch_size = 256, epochs = 40, lr=e)"
      ],
      "execution_count": null,
      "outputs": [
        {
          "output_type": "stream",
          "text": [
            "Test loss: 2.3028035163879395\n",
            "Test accuracy: 0.09449999779462814\n",
            "Test loss: 2.2945258617401123\n",
            "Test accuracy: 0.27079999446868896\n",
            "Test loss: 2.270235061645508\n",
            "Test accuracy: 0.5410000085830688\n",
            "Test loss: 1.047583818435669\n",
            "Test accuracy: 0.8521999716758728\n",
            "Test loss: 0.20524372160434723\n",
            "Test accuracy: 0.955299973487854\n",
            "Test loss: 0.08441634476184845\n",
            "Test accuracy: 0.9764000177383423\n",
            "Test loss: 0.070006363093853\n",
            "Test accuracy: 0.978600025177002\n",
            "Test loss: 2.302206039428711\n",
            "Test accuracy: 0.11349999904632568\n"
          ],
          "name": "stdout"
        }
      ]
    },
    {
      "cell_type": "code",
      "metadata": {
        "colab": {
          "base_uri": "https://localhost:8080/",
          "height": 301
        },
        "id": "xZKiz_jKE5F9",
        "outputId": "81d6d73a-a355-4271-e6d2-76105c33842a"
      },
      "source": [
        "plt.semilogx(lr_grid, scores[:, 1], '-o')\n",
        "plt.xlabel('learning_rate')\n",
        "plt.ylabel('test set accuracy')"
      ],
      "execution_count": null,
      "outputs": [
        {
          "output_type": "execute_result",
          "data": {
            "text/plain": [
              "Text(0, 0.5, 'test set accuracy')"
            ]
          },
          "metadata": {
            "tags": []
          },
          "execution_count": 9
        },
        {
          "output_type": "display_data",
          "data": {
            "image/png": "[encoded data removed]",
            "text/plain": [
              "<Figure size 432x288 with 1 Axes>"
            ]
          },
          "metadata": {
            "tags": [],
            "needs_background": "light"
          }
        }
      ]
    },
    {
      "cell_type": "markdown",
      "metadata": {
        "id": "lmLJ7CNfFH-u"
      },
      "source": [
        "The test set accuracy increases with learning rate first then decays quickly for too large learning rates. The optimized value is around 0.2, when the learning rate is too high, the optimization could not converge and the performance looks really bad."
      ]
    },
    {
      "cell_type": "markdown",
      "metadata": {
        "id": "3h81dYDrFu8U"
      },
      "source": [
        "Experiment 3: Now we change the batch_size, keeping epochs=20 and lr = 0.1."
      ]
    },
    {
      "cell_type": "code",
      "metadata": {
        "colab": {
          "base_uri": "https://localhost:8080/"
        },
        "id": "tC7FA43wFwBS",
        "outputId": "b6bea2d3-2916-4270-8746-056946ee0ed7"
      },
      "source": [
        "batch_grid = [32,64,128,256,512,1024,2048]\n",
        "scores = np.zeros((len(batch_grid), 2))\n",
        "for i, e in enumerate(batch_grid):\n",
        "    scores[i, :] = run_model(batch_size = e, epochs = 20, lr=0.1)"
      ],
      "execution_count": null,
      "outputs": [
        {
          "output_type": "stream",
          "text": [
            "Test loss: 0.49068760871887207\n",
            "Test accuracy: 0.9057999849319458\n",
            "Test loss: 0.10870302468538284\n",
            "Test accuracy: 0.9717000126838684\n",
            "Test loss: 0.0917593389749527\n",
            "Test accuracy: 0.9750000238418579\n",
            "Test loss: 0.09882358461618423\n",
            "Test accuracy: 0.9736999869346619\n",
            "Test loss: 0.12702372670173645\n",
            "Test accuracy: 0.9670000076293945\n",
            "Test loss: 0.15539495646953583\n",
            "Test accuracy: 0.9628999829292297\n",
            "Test loss: 0.2415427416563034\n",
            "Test accuracy: 0.9501000046730042\n"
          ],
          "name": "stdout"
        }
      ]
    },
    {
      "cell_type": "code",
      "metadata": {
        "colab": {
          "base_uri": "https://localhost:8080/",
          "height": 301
        },
        "id": "x8OTjGkg5LJ-",
        "outputId": "a38d9b88-1d93-4118-a7ae-a3f7540d10a8"
      },
      "source": [
        "plt.semilogx(batch_grid, scores[:, 1], '-o')\n",
        "plt.xlabel('batch_size')\n",
        "plt.ylabel('test set accuracy')"
      ],
      "execution_count": null,
      "outputs": [
        {
          "output_type": "execute_result",
          "data": {
            "text/plain": [
              "Text(0, 0.5, 'test set accuracy')"
            ]
          },
          "metadata": {
            "tags": []
          },
          "execution_count": 15
        },
        {
          "output_type": "display_data",
          "data": {
            "image/png": "[encoded data removed]",
            "text/plain": [
              "<Figure size 432x288 with 1 Axes>"
            ]
          },
          "metadata": {
            "tags": [],
            "needs_background": "light"
          }
        }
      ]
    },
    {
      "cell_type": "markdown",
      "metadata": {
        "id": "Iq4M6pngAF3s"
      },
      "source": [
        "The test set accuracy does not depend on the batch_size sensitively. Batch sizes 128 and 256 yield the best performance."
      ]
    },
    {
      "cell_type": "code",
      "metadata": {
        "colab": {
          "base_uri": "https://localhost:8080/"
        },
        "id": "odlrd3mR3Olf",
        "outputId": "9e112931-c20f-4e73-8c2c-b23b766653c1"
      },
      "source": [
        "# if you are running this notebook on your local machine, install with pip\n",
        "# !pip install pymagnitude\n",
        "\n",
        "# if you are using Colab, install magnitude using the following:\n",
        "! echo \"Installing Magnitude.... (please wait, can take a while)\"\n",
        "! (curl https://raw.githubusercontent.com/plasticityai/magnitude/master/install-colab.sh | /bin/bash 1>/dev/null 2>/dev/null)\n",
        "! echo \"Done installing Magnitude.\"\n",
        "! wget http://magnitude.plasticity.ai/word2vec/light/GoogleNews-vectors-negative300.magnitude"
      ],
      "execution_count": null,
      "outputs": [
        {
          "output_type": "stream",
          "text": [
            "Installing Magnitude.... (please wait, can take a while)\n",
            "  % Total    % Received % Xferd  Average Speed   Time    Time     Time  Current\n",
            "                                 Dload  Upload   Total   Spent    Left  Speed\n",
            "100   137  100   137    0     0   1030      0 --:--:-- --:--:-- --:--:--  1030\n",
            "Done installing Magnitude.\n",
            "--2021-04-29 00:19:31--  http://magnitude.plasticity.ai/word2vec/light/GoogleNews-vectors-negative300.magnitude\n",
            "Resolving magnitude.plasticity.ai (magnitude.plasticity.ai)... 52.217.45.27\n",
            "Connecting to magnitude.plasticity.ai (magnitude.plasticity.ai)|52.217.45.27|:80... connected.\n",
            "HTTP request sent, awaiting response... 200 OK\n",
            "Length: 4211335168 (3.9G) [binary/octet-stream]\n",
            "Saving to: ‘GoogleNews-vectors-negative300.magnitude’\n",
            "\n",
            "GoogleNews-vectors- 100%[===================>]   3.92G  51.9MB/s    in 85s     \n",
            "\n",
            "2021-04-29 00:20:56 (47.3 MB/s) - ‘GoogleNews-vectors-negative300.magnitude’ saved [4211335168/4211335168]\n",
            "\n"
          ],
          "name": "stdout"
        }
      ]
    },
    {
      "cell_type": "code",
      "metadata": {
        "colab": {
          "base_uri": "https://localhost:8080/"
        },
        "id": "4JItNI8t3UPk",
        "outputId": "9185f5b7-4a0b-40b7-c72b-80be414f8989"
      },
      "source": [
        "from pymagnitude import *\n",
        "\n",
        "file_path = \"GoogleNews-vectors-negative300.magnitude\"\n",
        "vectors = Magnitude(file_path)\n",
        "print(vectors.distance(\"cat\", \"dog\"))"
      ],
      "execution_count": null,
      "outputs": [
        {
          "output_type": "stream",
          "text": [
            "0.69145405\n"
          ],
          "name": "stdout"
        }
      ]
    },
    {
      "cell_type": "markdown",
      "metadata": {
        "id": "uvDrYrmx3YQT"
      },
      "source": [
        "1. What is the dimensionality of these word embeddings? Provide an integer answer.\n",
        "2.  What are the top-5 most similar words to picnic (not including picnic itself)?\n",
        "3. According to the word embeddings, which of these words is not like the others? `[tissue', 'papyrus', 'manila', 'newsprint', 'parchment', 'gazetteâ€™]`\n",
        "4. Solve the following analogy: â€œleg is to jump as `X` is to throwâ€.\n",
        "5. Is the word `alumni` in the vocabulary? What about `alumnus`?\n",
        "6. How many words are in the vocabulary?"
      ]
    },
    {
      "cell_type": "markdown",
      "metadata": {
        "id": "J2aZm3NB-von"
      },
      "source": [
        "There are 3 million embeddings and each of them is a vector of 300:"
      ]
    },
    {
      "cell_type": "code",
      "metadata": {
        "colab": {
          "base_uri": "https://localhost:8080/"
        },
        "id": "dN4Mtp2G3Y2Y",
        "outputId": "e310744d-8829-4fb6-8db1-0718c677afb7"
      },
      "source": [
        "vectors.length, vectors.dim"
      ],
      "execution_count": null,
      "outputs": [
        {
          "output_type": "execute_result",
          "data": {
            "text/plain": [
              "(3000000, 300)"
            ]
          },
          "metadata": {
            "tags": []
          },
          "execution_count": 13
        }
      ]
    },
    {
      "cell_type": "code",
      "metadata": {
        "colab": {
          "base_uri": "https://localhost:8080/"
        },
        "id": "h6kYaB7N_yLR",
        "outputId": "fc8cfa1e-2758-4934-db86-ce9a4b62d524"
      },
      "source": [
        "vectors.distance(\"leg\", \"jump\")"
      ],
      "execution_count": null,
      "outputs": [
        {
          "output_type": "execute_result",
          "data": {
            "text/plain": [
              "1.3187156"
            ]
          },
          "metadata": {
            "tags": []
          },
          "execution_count": 28
        }
      ]
    },
    {
      "cell_type": "code",
      "metadata": {
        "colab": {
          "base_uri": "https://localhost:8080/"
        },
        "id": "VRnI5-u9HszY",
        "outputId": "55f995bf-7523-457e-cce9-ebd59799bf70"
      },
      "source": [
        "vectors.distance(\"arm\", \"throw\")"
      ],
      "execution_count": null,
      "outputs": [
        {
          "output_type": "execute_result",
          "data": {
            "text/plain": [
              "1.3216454"
            ]
          },
          "metadata": {
            "tags": []
          },
          "execution_count": 32
        }
      ]
    },
    {
      "cell_type": "code",
      "metadata": {
        "colab": {
          "base_uri": "https://localhost:8080/"
        },
        "id": "FkcmD7Oj9-AF",
        "outputId": "83a14201-cad2-4125-cc1e-45b127beb3fc"
      },
      "source": [
        "vectors.most_similar('picnic')[:5]"
      ],
      "execution_count": null,
      "outputs": [
        {
          "output_type": "execute_result",
          "data": {
            "text/plain": [
              "[('picnics', 0.7400875),\n",
              " ('picnic_lunch', 0.7213739),\n",
              " ('Picnic', 0.700534),\n",
              " ('potluck_picnic', 0.6683274),\n",
              " ('picnic_supper', 0.65189123)]"
            ]
          },
          "metadata": {
            "tags": []
          },
          "execution_count": 20
        }
      ]
    },
    {
      "cell_type": "code",
      "metadata": {
        "id": "qogFgfRg-zLC"
      },
      "source": [
        "words = ['tissue', 'papyrus', 'manila', 'newsprint', 'parchment', 'gazette']"
      ],
      "execution_count": null,
      "outputs": []
    },
    {
      "cell_type": "code",
      "metadata": {
        "colab": {
          "base_uri": "https://localhost:8080/",
          "height": 35
        },
        "id": "kInljXcRCG0F",
        "outputId": "325cab68-2c43-46ac-aa42-cb8b55de126e"
      },
      "source": [
        "vectors.doesnt_match(words)"
      ],
      "execution_count": null,
      "outputs": [
        {
          "output_type": "execute_result",
          "data": {
            "application/vnd.google.colaboratory.intrinsic+json": {
              "type": "string"
            },
            "text/plain": [
              "'tissue'"
            ]
          },
          "metadata": {
            "tags": []
          },
          "execution_count": 22
        }
      ]
    },
    {
      "cell_type": "code",
      "metadata": {
        "colab": {
          "base_uri": "https://localhost:8080/"
        },
        "id": "_saxhlAnC1h6",
        "outputId": "f7d7f9b6-8c11-4ec5-dc4b-dc0d2e5229e9"
      },
      "source": [
        "vectors.query('alumni')"
      ],
      "execution_count": null,
      "outputs": [
        {
          "output_type": "execute_result",
          "data": {
            "text/plain": [
              "array([-0.0213065,  0.0023583,  0.0448899,  0.1001891,  0.016915 ,\n",
              "       -0.0422876, -0.0304146, -0.0793706,  0.0644073, -0.0474922,\n",
              "        0.0283002,  0.0206559,  0.0312278,  0.0474922,  0.0161018,\n",
              "        0.0152073,  0.0608291,  0.0650579, -0.0079696,  0.0543233,\n",
              "        0.0273243,  0.1099478,  0.0949845, -0.0159392, -0.0178909,\n",
              "       -0.0783947, -0.0627808,  0.0644073, -0.0442394, -0.0016468,\n",
              "        0.0718889, -0.0705878, -0.0341554, -0.0191921,  0.1385733,\n",
              "       -0.0364324,  0.1164536, -0.029276 ,  0.053998 ,  0.0650579,\n",
              "        0.014638 ,  0.0299266, -0.1105984, -0.0507451,  0.0227703,\n",
              "       -0.053998 , -0.0800212, -0.0995385,  0.026999 ,  0.0255352,\n",
              "       -0.0173217, -0.0179722, -0.0221197,  0.111249 ,  0.0158579,\n",
              "        0.0078069, -0.0105719,  0.0012452, -0.0044117, -0.0160205,\n",
              "       -0.0050013, -0.0362698, -0.0059365, -0.0229329,  0.0122797,\n",
              "       -0.0322036,  0.0186228,  0.0260231,  0.1255617,  0.0605038,\n",
              "       -0.0523716,  0.0026023,  0.1053938, -0.1860655,  0.0328542,\n",
              "       -0.0158579, -0.0163458,  0.0255352,  0.041637 , -0.0302519,\n",
              "       -0.0520463, -0.1040926, -0.0091081,  0.0790453, -0.0315531,\n",
              "       -0.0852258, -0.1301157, -0.0091488, -0.0033342,  0.0375709,\n",
              "       -0.0777442, -0.0904304,  0.0189481, -0.0621303,  0.032041 ,\n",
              "        0.0676602, -0.0142314,  0.1229594, -0.0341554, -0.0572509,\n",
              "       -0.0227703, -0.0069937, -0.0006277, -0.0634314, -0.0093114,\n",
              "        0.0087015,  0.0455405,  0.0819729,  0.1132007, -0.0113038,\n",
              "       -0.0601785,  0.0279749,  0.0657085,  0.0059772,  0.0982374,\n",
              "        0.0408238,  0.0481428,  0.0279749,  0.0510704, -0.0139061,\n",
              "       -0.0005489, -0.019924 ,  0.0748166,  0.0284628, -0.0504199,\n",
              "       -0.0770936, -0.027487 ,  0.0725395,  0.0377336,  0.0530222,\n",
              "       -0.0080509, -0.098888 , -0.0401732,  0.0543233, -0.0234208,\n",
              "       -0.0071157,  0.0142314,  0.022445 , -0.0325289, -0.0101653,\n",
              "       -0.1190559, -0.0161018,  0.0078883, -0.0582268,  0.0995385,\n",
              "        0.0582268,  0.0744913,  0.0375709,  0.0852258,  0.0020941,\n",
              "        0.1027914,  0.0666843, -0.115803 ,  0.0839247,  0.0084169,\n",
              "       -0.0686361,  0.0296013, -0.0209812,  0.0403359, -0.0175656,\n",
              "       -0.0845752, -0.0478175, -0.0016468,  0.1132007,  0.12361  ,\n",
              "       -0.0048793,  0.0878281,  0.0556245, -0.0216317,  0.0621303,\n",
              "       -0.0107345,  0.0403359,  0.0552992, -0.0317157,  0.0230955,\n",
              "        0.0095147,  0.0041271,  0.0365951,  0.0234208,  0.0261858,\n",
              "        0.017159 ,  0.0315531,  0.0240714, -0.0077663,  0.0398479,\n",
              "       -0.0061805,  0.0621303,  0.0182162,  0.0709131, -0.0216317,\n",
              "        0.0230955, -0.0359445, -0.0556245,  0.0712384, -0.1105984,\n",
              "       -0.0325289,  0.0715637,  0.0004727, -0.0302519, -0.0670096,\n",
              "        0.0106532,  0.0013926,  0.0078069, -0.03936  , -0.0178909,\n",
              "       -0.0676602,  0.0128489, -0.1229594, -0.0335048,  0.0904304,\n",
              "        0.0101246, -0.0487934,  0.0624556, -0.0735154, -0.0344807,\n",
              "        0.0829488, -0.0261858,  0.041637 , -0.0302519, -0.0187041,\n",
              "       -0.0429382, -0.086527 , -0.0352939, -0.0089455,  0.051721 ,\n",
              "        0.0647326, -0.0271617,  0.0143127,  0.0588774, -0.0041474,\n",
              "       -0.0624556,  0.037083 , -0.0331795, -0.0027243,  0.0016366,\n",
              "       -0.0705878,  0.0302519, -0.1385733, -0.061805 ,  0.0286255,\n",
              "        0.098888 , -0.0387094, -0.0287881, -0.0614797, -0.0790453,\n",
              "        0.0897799, -0.0510704,  0.0404985, -0.080997 ,  0.0497693,\n",
              "        0.0044931,  0.0803465, -0.0047777, -0.0209812, -0.0735154,\n",
              "       -0.1040926,  0.0790453,  0.0559498, -0.1561389,  0.07872  ,\n",
              "       -0.0012808,  0.0307398,  0.0369203, -0.0101653, -0.0579015,\n",
              "       -0.0018298, -0.0160205, -0.0043101,  0.0458658, -0.0552992,\n",
              "        0.0258605,  0.0133369,  0.066359 ,  0.0346433,  0.0023685,\n",
              "       -0.0790453,  0.0338301, -0.0012198,  0.0400106,  0.0396853,\n",
              "       -0.0302519, -0.0917316, -0.0676602,  0.0240714, -0.0153699,\n",
              "       -0.0439141, -0.0936833, -0.014882 ,  0.1314169, -0.0575762,\n",
              "       -0.0061805, -0.0193547, -0.1756563, -0.0195174,  0.152886 ,\n",
              "       -0.0143941,  0.0091894,  0.0124423, -0.0356192, -0.041637 ],\n",
              "      dtype=float32)"
            ]
          },
          "metadata": {
            "tags": []
          },
          "execution_count": 26
        }
      ]
    },
    {
      "cell_type": "code",
      "metadata": {
        "colab": {
          "base_uri": "https://localhost:8080/"
        },
        "id": "1FPi5FrLG-GF",
        "outputId": "b8d7b784-e986-4ad7-e9fc-a550100189be"
      },
      "source": [
        "vectors.query('alumnus')"
      ],
      "execution_count": null,
      "outputs": [
        {
          "output_type": "execute_result",
          "data": {
            "text/plain": [
              "array([ 4.984350e-02,  3.068490e-02,  1.596550e-02,  2.741390e-02,\n",
              "        6.573120e-02,  4.672830e-02, -2.741390e-02, -6.573120e-02,\n",
              "        8.224180e-02, -3.177530e-02,  3.987480e-02, -3.566930e-02,\n",
              "        3.520200e-02, -5.108960e-02, -9.719490e-02,  5.171270e-02,\n",
              "        2.445450e-02, -1.884710e-02,  3.909600e-02,  6.510810e-02,\n",
              "       -3.426740e-02,  1.956359e-01,  1.052945e-01, -4.672830e-02,\n",
              "       -1.316180e-02, -1.588763e-01, -1.331760e-02,  2.289690e-02,\n",
              "       -1.071636e-01,  2.367570e-02,  5.077810e-02, -1.508900e-03,\n",
              "       -6.355050e-02,  6.571000e-04,  1.003101e-01, -2.133930e-02,\n",
              "        1.277241e-01, -5.700850e-02, -1.845770e-02,  6.261590e-02,\n",
              "        2.009320e-02,  8.138500e-03, -8.598010e-02, -8.470000e-04,\n",
              "        3.286560e-02, -8.909530e-02, -9.594880e-02, -5.669700e-02,\n",
              "        8.286490e-02, -3.816150e-02, -5.482790e-02,  1.736740e-02,\n",
              "        1.837980e-02, -2.398720e-02,  4.174400e-02, -2.686900e-03,\n",
              "        2.772550e-02, -2.663510e-02,  6.043530e-02, -5.482790e-02,\n",
              "        3.006190e-02, -6.230440e-02, -3.613660e-02, -1.849700e-03,\n",
              "       -2.424000e-03, -2.554480e-02, -1.253880e-02, -1.378490e-02,\n",
              "        6.728880e-02,  1.985950e-02, -5.452000e-04, -6.946940e-02,\n",
              "       -3.847300e-02, -7.601140e-02,  2.149500e-02, -3.878450e-02,\n",
              "       -1.471940e-02,  2.087200e-02,  1.090330e-02, -8.598010e-02,\n",
              "        3.489050e-02, -1.923650e-02,  9.501400e-03,  1.674400e-03,\n",
              "       -6.261590e-02, -5.887770e-02, -6.355050e-02,  6.822330e-02,\n",
              "        5.330000e-04,  1.168210e-02, -1.065406e-01, -4.890900e-02,\n",
              "       -4.984400e-03,  5.420480e-02,  1.314200e-03,  5.140110e-02,\n",
              "       -5.327030e-02,  2.043585e-01,  2.316900e-03, -6.760030e-02,\n",
              "       -6.775600e-03, -8.605800e-03, -2.959500e-03, -1.271010e-01,\n",
              "       -4.283400e-03, -5.062200e-03,  2.710240e-02,  4.112090e-02,\n",
              "        2.015200e-03,  1.378490e-02, -8.286490e-02, -1.386270e-02,\n",
              "        6.884640e-02,  4.361310e-02,  9.719490e-02,  5.856620e-02,\n",
              "       -4.641680e-02,  4.579380e-02,  1.495306e-01,  1.612130e-02,\n",
              "        3.691540e-02, -7.554400e-03,  2.694670e-02,  2.492180e-02,\n",
              "       -9.096450e-02, -4.890900e-02,  2.975040e-02, -1.129270e-02,\n",
              "        5.576250e-02,  6.822330e-02,  1.721160e-02, -1.233628e-01,\n",
              "       -2.647940e-02,  4.735140e-02, -3.933000e-03,  3.862870e-02,\n",
              "        7.749100e-03,  7.756900e-02, -9.407970e-02,  7.258470e-02,\n",
              "       -9.034140e-02,  7.071550e-02,  1.168000e-04, -1.051390e-02,\n",
              "        2.928310e-02,  3.146370e-02,  4.797440e-02, -1.436000e-04,\n",
              "        9.470270e-02,  5.763160e-02,  8.971840e-02,  7.694600e-02,\n",
              "       -3.582500e-02,  2.507750e-02, -2.227380e-02, -3.847300e-02,\n",
              "       -5.046660e-02,  5.015510e-02,  8.535710e-02, -4.236700e-02,\n",
              "       -5.825460e-02,  4.049790e-02,  5.140110e-02,  8.598010e-02,\n",
              "        1.052945e-01,  6.199290e-02,  7.725750e-02, -1.736740e-02,\n",
              "       -2.990610e-02,  6.168140e-02,  3.193100e-02,  2.305260e-02,\n",
              "        9.851900e-03, -7.850360e-02,  1.214940e-02,  2.087200e-02,\n",
              "        1.651070e-02, -2.211810e-02,  9.781790e-02, -1.214940e-02,\n",
              "       -1.499200e-03,  3.769420e-02,  6.884640e-02, -4.711800e-03,\n",
              "       -1.791250e-02, -2.414300e-02,  4.423610e-02,  4.672830e-02,\n",
              "        8.605800e-03, -2.538910e-02,  3.255410e-02,  7.009250e-02,\n",
              "       -3.286560e-02,  1.401850e-01, -5.950070e-02, -3.146370e-02,\n",
              "        2.414300e-02, -2.365600e-03,  9.851900e-03,  1.534250e-02,\n",
              "       -9.310000e-05,  5.179100e-03,  7.445380e-02,  1.915860e-02,\n",
              "       -4.890900e-02, -8.286490e-02, -8.138500e-03, -3.006000e-04,\n",
              "       -3.442320e-02, -4.517070e-02, -2.881580e-02, -5.545090e-02,\n",
              "        6.136990e-02,  2.180650e-02, -1.775680e-02,  9.470270e-02,\n",
              "       -6.230440e-02, -2.803700e-02,  1.362900e-03, -1.845770e-02,\n",
              "        2.433800e-03, -6.791180e-02,  9.423500e-03,  1.783460e-02,\n",
              "        1.339545e-01,  9.158750e-02,  2.679090e-02, -4.080940e-02,\n",
              "        9.228800e-03, -5.482790e-02, -1.970380e-02,  1.705580e-02,\n",
              "       -6.604270e-02, -4.890900e-02,  1.845770e-02, -3.971910e-02,\n",
              "        6.191500e-03, -7.694600e-02, -9.345660e-02,  1.323970e-02,\n",
              "       -3.068490e-02, -9.283360e-02, -4.672800e-03,  3.177530e-02,\n",
              "       -2.383140e-02,  2.383140e-02, -4.735140e-02,  3.193100e-03,\n",
              "       -2.585630e-02, -4.548220e-02,  7.904900e-03, -3.115220e-02,\n",
              "       -4.953200e-02,  1.090330e-02, -3.613660e-02,  2.628500e-03,\n",
              "        5.700850e-02,  5.732010e-02, -1.507767e-01,  3.161950e-02,\n",
              "        3.037340e-02,  1.003101e-01,  1.028023e-01, -1.289702e-01,\n",
              "       -1.028020e-02,  4.766290e-02,  1.604340e-02,  5.841000e-03,\n",
              "       -3.465700e-03, -2.834850e-02, -9.657200e-03, -1.140171e-01,\n",
              "        6.760030e-02, -7.165000e-03, -7.601140e-02, -4.205550e-02,\n",
              "       -4.953200e-02, -2.570060e-02, -4.922050e-02, -3.660400e-03,\n",
              "        6.479660e-02, -5.077810e-02, -1.146401e-01,  7.289620e-02,\n",
              "        3.535780e-02, -2.040470e-02, -7.476530e-02, -2.211810e-02,\n",
              "        1.894055e-01, -5.763160e-02, -5.077810e-02, -9.657190e-02,\n",
              "       -1.121480e-01, -3.535780e-02,  1.233628e-01,  1.820500e-03,\n",
              "       -7.289620e-02, -3.286560e-02,  1.450500e-03,  1.082540e-02],\n",
              "      dtype=float32)"
            ]
          },
          "metadata": {
            "tags": []
          },
          "execution_count": 27
        }
      ]
    },
    {
      "cell_type": "code",
      "metadata": {
        "id": "QL8PFaxeP-Md"
      },
      "source": [
        ""
      ],
      "execution_count": null,
      "outputs": []
    }
  ]
}